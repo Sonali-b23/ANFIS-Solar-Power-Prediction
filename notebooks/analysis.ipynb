{
 "cells": [
  {
   "cell_type": "code",
   "execution_count": null,
   "id": "f2219121",
   "metadata": {},
   "outputs": [],
   "source": [
    "# Import necessary libraries\n",
    "import pandas as pd\n",
    "import matplotlib.pyplot as plt\n",
    "import seaborn as sns\n",
    "from sklearn.preprocessing import MinMaxScaler\n",
    "\n",
    "# Load the dataset\n",
    "data = pd.read_csv('../data/solar_power_generation.csv')\n",
    "\n",
    "# Show basic statistics\n",
    "data.describe()\n",
    "\n",
    "# Visualize relationships between different features\n",
    "plt.figure(figsize=(10, 6))\n",
    "sns.heatmap(data.corr(), annot=True, cmap=\"coolwarm\")\n",
    "plt.title(\"Correlation Heatmap\")\n",
    "plt.show()\n",
    "\n",
    "# Scatter plot to visualize radiation vs power output\n",
    "plt.figure(figsize=(10, 6))\n",
    "plt.scatter(data['Radiation'], data['SystemProduction'], color='blue', alpha=0.5)\n",
    "plt.title('Radiation vs Power Output')\n",
    "plt.xlabel('Radiation (W/m²)')\n",
    "plt.ylabel('Power Output (W)')\n",
    "plt.show()\n",
    "\n",
    "# Visualize how temperature impacts power output\n",
    "plt.figure(figsize=(10, 6))\n",
    "sns.scatterplot(x=data['AirTemperature'], y=data['SystemProduction'], hue=data['RelativeAirHumidity'], palette=\"coolwarm\")\n",
    "plt.title('Air Temperature vs Power Output')\n",
    "plt.xlabel('Air Temperature (°C)')\n",
    "plt.ylabel('Power Output (W)')\n",
    "plt.show()\n",
    "\n",
    "# Explore missing values\n",
    "data.isnull().sum()\n"
   ]
  }
 ],
 "metadata": {
  "language_info": {
   "name": "python"
  }
 },
 "nbformat": 4,
 "nbformat_minor": 5
}
